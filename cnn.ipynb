{
 "cells": [
  {
   "cell_type": "code",
   "execution_count": null,
   "metadata": {},
   "outputs": [
    {
     "name": "stderr",
     "output_type": "stream",
     "text": [
      "Using TensorFlow backend.\n"
     ]
    }
   ],
   "source": [
    "from keras.datasets.cifar10 import load_data\n",
    "(x_train, y_train), (x_test, y_test) = load_data()"
   ]
  },
  {
   "cell_type": "code",
   "execution_count": 3,
   "metadata": {},
   "outputs": [
    {
     "name": "stdout",
     "output_type": "stream",
     "text": [
      "(50000, 32, 32, 3)\n",
      "(10000, 32, 32, 3)\n"
     ]
    }
   ],
   "source": [
    "print(x_train.shape)\n",
    "print(x_test.shape)"
   ]
  },
  {
   "cell_type": "code",
   "execution_count": 4,
   "metadata": {},
   "outputs": [],
   "source": [
    "labels = [\"飛機\", \"汽車\", \"鳥\", \"貓\", \"鹿\",\n",
    "          \"狗\", \"青蛙\", \"馬\", \"船\", \"卡車\"]"
   ]
  },
  {
   "cell_type": "code",
   "execution_count": 5,
   "metadata": {},
   "outputs": [
    {
     "name": "stdout",
     "output_type": "stream",
     "text": [
      "飛機\n"
     ]
    },
    {
     "data": {
      "text/plain": [
       "<matplotlib.image.AxesImage at 0x1dfd2a96ac8>"
      ]
     },
     "execution_count": 5,
     "metadata": {},
     "output_type": "execute_result"
    },
    {
     "data": {
      "image/png": "[encoded data removed]",
      "text/plain": [
       "<Figure size 432x288 with 1 Axes>"
      ]
     },
     "metadata": {
      "needs_background": "light"
     },
     "output_type": "display_data"
    }
   ],
   "source": [
    "import random\n",
    "import matplotlib.pyplot as plt\n",
    "%matplotlib inline\n",
    "\n",
    "c = random.randint(0, 49999)\n",
    "print(labels[y_train[c][0]])\n",
    "plt.imshow(x_train[c])"
   ]
  },
  {
   "cell_type": "code",
   "execution_count": 6,
   "metadata": {},
   "outputs": [],
   "source": [
    "x_train_shape = x_train/ 255\n",
    "x_test_shape = x_test / 255\n",
    "# y進去的時候要 one-hot encoding 3 -> [0, 0, 0, 1, 0, 0, 0, 0, 0, 0]\n",
    "from keras.utils.np_utils import to_categorical\n",
    "y_train_cat = to_categorical(y_train)\n",
    "y_test_cat = to_categorical(y_test)"
   ]
  },
  {
   "cell_type": "code",
   "execution_count": 10,
   "metadata": {},
   "outputs": [
    {
     "name": "stdout",
     "output_type": "stream",
     "text": [
      "_________________________________________________________________\n",
      "Layer (type)                 Output Shape              Param #   \n",
      "=================================================================\n",
      "conv2d_6 (Conv2D)            (None, 32, 32, 32)        896       \n",
      "_________________________________________________________________\n",
      "max_pooling2d_6 (MaxPooling2 (None, 16, 16, 32)        0         \n",
      "_________________________________________________________________\n",
      "conv2d_7 (Conv2D)            (None, 16, 16, 64)        18496     \n",
      "_________________________________________________________________\n",
      "max_pooling2d_7 (MaxPooling2 (None, 8, 8, 64)          0         \n",
      "_________________________________________________________________\n",
      "conv2d_8 (Conv2D)            (None, 8, 8, 128)         73856     \n",
      "_________________________________________________________________\n",
      "max_pooling2d_8 (MaxPooling2 (None, 4, 4, 128)         0         \n",
      "_________________________________________________________________\n",
      "flatten_2 (Flatten)          (None, 2048)              0         \n",
      "_________________________________________________________________\n",
      "dense_1 (Dense)              (None, 256)               524544    \n",
      "_________________________________________________________________\n",
      "dense_2 (Dense)              (None, 10)                2570      \n",
      "=================================================================\n",
      "Total params: 620,362\n",
      "Trainable params: 620,362\n",
      "Non-trainable params: 0\n",
      "_________________________________________________________________\n"
     ]
    }
   ],
   "source": [
    "from keras.models import Sequential\n",
    "from keras.layers import Conv2D, MaxPool2D, Dense\n",
    "from keras.layers import Flatten\n",
    "\n",
    "# 9(格子) * 3(RGB) * 32(filters) + 32(bias)\n",
    "cnn = Sequential()\n",
    "cnn.add(Conv2D(32, (3, 3),\n",
    "               activation=\"relu\",\n",
    "               padding=\"same\",\n",
    "               input_shape=(32,32,3)))\n",
    "cnn.add(MaxPool2D(pool_size=(2,2)))\n",
    "# 9(格子) * 32(上一層特徵數) * 64(filters) + 64(bias)\n",
    "cnn.add(Conv2D(64, (3, 3),\n",
    "               activation=\"relu\",\n",
    "               padding=\"same\"))\n",
    "cnn.add(MaxPool2D(pool_size=(2,2)))\n",
    "\n",
    "cnn.add(Conv2D(128, (3, 3),\n",
    "               activation=\"relu\",\n",
    "               padding=\"same\"))\n",
    "cnn.add(MaxPool2D(pool_size=(2,2)))\n",
    "# MLP開始\n",
    "cnn.add(Flatten())\n",
    "cnn.add(Dense(256,activation=\"relu\"))\n",
    "cnn.add(Dense(10,activation=\"softmax\"))\n",
    "cnn.summary()"
   ]
  },
  {
   "cell_type": "code",
   "execution_count": 11,
   "metadata": {},
   "outputs": [],
   "source": [
    "cnn.compile(loss=\"categorical_crossentropy\", \n",
    "            optimizer=\"adam\",\n",
    "           metrics=[\"accuracy\"])"
   ]
  },
  {
   "cell_type": "code",
   "execution_count": 12,
   "metadata": {},
   "outputs": [
    {
     "name": "stdout",
     "output_type": "stream",
     "text": [
      "Train on 45000 samples, validate on 5000 samples\n",
      "Epoch 1/10\n",
      "45000/45000 [==============================] - 71s 2ms/step - loss: 1.6090 - acc: 0.4169 - val_loss: 1.3025 - val_acc: 0.5274\n",
      "Epoch 2/10\n",
      "45000/45000 [==============================] - 72s 2ms/step - loss: 1.2077 - acc: 0.5741 - val_loss: 1.0818 - val_acc: 0.6194\n",
      "Epoch 3/10\n",
      "45000/45000 [==============================] - 76s 2ms/step - loss: 1.0205 - acc: 0.6409 - val_loss: 0.9627 - val_acc: 0.6670\n",
      "Epoch 4/10\n",
      "45000/45000 [==============================] - 77s 2ms/step - loss: 0.9037 - acc: 0.6836 - val_loss: 0.8885 - val_acc: 0.6922\n",
      "Epoch 5/10\n",
      "45000/45000 [==============================] - 77s 2ms/step - loss: 0.8152 - acc: 0.7152 - val_loss: 0.8487 - val_acc: 0.7084\n",
      "Epoch 6/10\n",
      "45000/45000 [==============================] - 77s 2ms/step - loss: 0.7394 - acc: 0.7420 - val_loss: 0.8118 - val_acc: 0.7224\n",
      "Epoch 7/10\n",
      "45000/45000 [==============================] - 76s 2ms/step - loss: 0.6751 - acc: 0.7633 - val_loss: 0.7841 - val_acc: 0.7376\n",
      "Epoch 8/10\n",
      "45000/45000 [==============================] - 78s 2ms/step - loss: 0.6139 - acc: 0.7861 - val_loss: 0.7580 - val_acc: 0.7414\n",
      "Epoch 9/10\n",
      "45000/45000 [==============================] - 75s 2ms/step - loss: 0.5594 - acc: 0.8065 - val_loss: 0.7628 - val_acc: 0.7482\n",
      "Epoch 10/10\n",
      "45000/45000 [==============================] - 74s 2ms/step - loss: 0.4955 - acc: 0.8283 - val_loss: 0.7671 - val_acc: 0.7486\n"
     ]
    },
    {
     "data": {
      "text/plain": [
       "<keras.callbacks.History at 0x1e0376c1710>"
      ]
     },
     "execution_count": 12,
     "metadata": {},
     "output_type": "execute_result"
    }
   ],
   "source": [
    "cnn.fit(x_train_shape, y_train_cat, \n",
    "        batch_size=200, epochs=10, \n",
    "        validation_split=0.1)"
   ]
  },
  {
   "cell_type": "code",
   "execution_count": 13,
   "metadata": {},
   "outputs": [
    {
     "name": "stdout",
     "output_type": "stream",
     "text": [
      "10000/10000 [==============================] - 6s 614us/step\n"
     ]
    },
    {
     "data": {
      "text/plain": [
       "[0.7978894422531128, 0.7384]"
      ]
     },
     "execution_count": 13,
     "metadata": {},
     "output_type": "execute_result"
    }
   ],
   "source": [
    "cnn.evaluate(x_test_shape, y_test_cat)"
   ]
  },
  {
   "cell_type": "code",
   "execution_count": 14,
   "metadata": {},
   "outputs": [],
   "source": [
    "cnn.save(\"simplecnn.h5\")"
   ]
  },
  {
   "cell_type": "code",
   "execution_count": 15,
   "metadata": {},
   "outputs": [
    {
     "name": "stdout",
     "output_type": "stream",
     "text": [
      "10000/10000 [==============================] - 6s 615us/step\n"
     ]
    },
    {
     "data": {
      "text/plain": [
       "[0.7978894422531128, 0.7384]"
      ]
     },
     "execution_count": 15,
     "metadata": {},
     "output_type": "execute_result"
    }
   ],
   "source": [
    "from keras.models import load_model\n",
    "old = load_model(\"simplecnn.h5\")\n",
    "old.evaluate(x_test_shape, y_test_cat)"
   ]
  },
  {
   "cell_type": "code",
   "execution_count": 16,
   "metadata": {},
   "outputs": [
    {
     "data": {
      "text/html": [
       "<div>\n",
       "<style scoped>\n",
       "    .dataframe tbody tr th:only-of-type {\n",
       "        vertical-align: middle;\n",
       "    }\n",
       "\n",
       "    .dataframe tbody tr th {\n",
       "        vertical-align: top;\n",
       "    }\n",
       "\n",
       "    .dataframe thead th {\n",
       "        text-align: right;\n",
       "    }\n",
       "</style>\n",
       "<table border=\"1\" class=\"dataframe\">\n",
       "  <thead>\n",
       "    <tr style=\"text-align: right;\">\n",
       "      <th></th>\n",
       "      <th>0</th>\n",
       "      <th>1</th>\n",
       "      <th>2</th>\n",
       "      <th>3</th>\n",
       "      <th>4</th>\n",
       "      <th>5</th>\n",
       "      <th>6</th>\n",
       "      <th>7</th>\n",
       "      <th>8</th>\n",
       "      <th>9</th>\n",
       "    </tr>\n",
       "  </thead>\n",
       "  <tbody>\n",
       "    <tr>\n",
       "      <th>0</th>\n",
       "      <td>794</td>\n",
       "      <td>11</td>\n",
       "      <td>32</td>\n",
       "      <td>19</td>\n",
       "      <td>11</td>\n",
       "      <td>9</td>\n",
       "      <td>5</td>\n",
       "      <td>15</td>\n",
       "      <td>68</td>\n",
       "      <td>36</td>\n",
       "    </tr>\n",
       "    <tr>\n",
       "      <th>1</th>\n",
       "      <td>19</td>\n",
       "      <td>863</td>\n",
       "      <td>5</td>\n",
       "      <td>10</td>\n",
       "      <td>1</td>\n",
       "      <td>2</td>\n",
       "      <td>5</td>\n",
       "      <td>3</td>\n",
       "      <td>13</td>\n",
       "      <td>79</td>\n",
       "    </tr>\n",
       "    <tr>\n",
       "      <th>2</th>\n",
       "      <td>71</td>\n",
       "      <td>9</td>\n",
       "      <td>640</td>\n",
       "      <td>69</td>\n",
       "      <td>52</td>\n",
       "      <td>48</td>\n",
       "      <td>39</td>\n",
       "      <td>47</td>\n",
       "      <td>14</td>\n",
       "      <td>11</td>\n",
       "    </tr>\n",
       "    <tr>\n",
       "      <th>3</th>\n",
       "      <td>26</td>\n",
       "      <td>10</td>\n",
       "      <td>70</td>\n",
       "      <td>621</td>\n",
       "      <td>49</td>\n",
       "      <td>111</td>\n",
       "      <td>37</td>\n",
       "      <td>42</td>\n",
       "      <td>19</td>\n",
       "      <td>15</td>\n",
       "    </tr>\n",
       "    <tr>\n",
       "      <th>4</th>\n",
       "      <td>22</td>\n",
       "      <td>6</td>\n",
       "      <td>82</td>\n",
       "      <td>79</td>\n",
       "      <td>634</td>\n",
       "      <td>28</td>\n",
       "      <td>28</td>\n",
       "      <td>105</td>\n",
       "      <td>12</td>\n",
       "      <td>4</td>\n",
       "    </tr>\n",
       "    <tr>\n",
       "      <th>5</th>\n",
       "      <td>19</td>\n",
       "      <td>4</td>\n",
       "      <td>47</td>\n",
       "      <td>211</td>\n",
       "      <td>31</td>\n",
       "      <td>596</td>\n",
       "      <td>15</td>\n",
       "      <td>58</td>\n",
       "      <td>13</td>\n",
       "      <td>6</td>\n",
       "    </tr>\n",
       "    <tr>\n",
       "      <th>6</th>\n",
       "      <td>8</td>\n",
       "      <td>7</td>\n",
       "      <td>47</td>\n",
       "      <td>94</td>\n",
       "      <td>31</td>\n",
       "      <td>33</td>\n",
       "      <td>750</td>\n",
       "      <td>15</td>\n",
       "      <td>8</td>\n",
       "      <td>7</td>\n",
       "    </tr>\n",
       "    <tr>\n",
       "      <th>7</th>\n",
       "      <td>11</td>\n",
       "      <td>7</td>\n",
       "      <td>29</td>\n",
       "      <td>36</td>\n",
       "      <td>36</td>\n",
       "      <td>34</td>\n",
       "      <td>2</td>\n",
       "      <td>830</td>\n",
       "      <td>5</td>\n",
       "      <td>10</td>\n",
       "    </tr>\n",
       "    <tr>\n",
       "      <th>8</th>\n",
       "      <td>53</td>\n",
       "      <td>29</td>\n",
       "      <td>7</td>\n",
       "      <td>14</td>\n",
       "      <td>2</td>\n",
       "      <td>5</td>\n",
       "      <td>2</td>\n",
       "      <td>6</td>\n",
       "      <td>856</td>\n",
       "      <td>26</td>\n",
       "    </tr>\n",
       "    <tr>\n",
       "      <th>9</th>\n",
       "      <td>31</td>\n",
       "      <td>81</td>\n",
       "      <td>5</td>\n",
       "      <td>17</td>\n",
       "      <td>4</td>\n",
       "      <td>7</td>\n",
       "      <td>5</td>\n",
       "      <td>15</td>\n",
       "      <td>35</td>\n",
       "      <td>800</td>\n",
       "    </tr>\n",
       "  </tbody>\n",
       "</table>\n",
       "</div>"
      ],
      "text/plain": [
       "     0    1    2    3    4    5    6    7    8    9\n",
       "0  794   11   32   19   11    9    5   15   68   36\n",
       "1   19  863    5   10    1    2    5    3   13   79\n",
       "2   71    9  640   69   52   48   39   47   14   11\n",
       "3   26   10   70  621   49  111   37   42   19   15\n",
       "4   22    6   82   79  634   28   28  105   12    4\n",
       "5   19    4   47  211   31  596   15   58   13    6\n",
       "6    8    7   47   94   31   33  750   15    8    7\n",
       "7   11    7   29   36   36   34    2  830    5   10\n",
       "8   53   29    7   14    2    5    2    6  856   26\n",
       "9   31   81    5   17    4    7    5   15   35  800"
      ]
     },
     "execution_count": 16,
     "metadata": {},
     "output_type": "execute_result"
    }
   ],
   "source": [
    "from sklearn.metrics import confusion_matrix\n",
    "import pandas as pd\n",
    "pd.DataFrame(confusion_matrix(y_test, cnn.predict_classes(x_test_shape)))\n"
   ]
  },
  {
   "cell_type": "code",
   "execution_count": null,
   "metadata": {},
   "outputs": [],
   "source": []
  }
 ],
 "metadata": {
  "kernelspec": {
   "display_name": "Python 3",
   "language": "python",
   "name": "python3"
  },
  "language_info": {
   "codemirror_mode": {
    "name": "ipython",
    "version": 3
   },
   "file_extension": ".py",
   "mimetype": "text/x-python",
   "name": "python",
   "nbconvert_exporter": "python",
   "pygments_lexer": "ipython3",
   "version": "3.6.0"
  }
 },
 "nbformat": 4,
 "nbformat_minor": 1
}
