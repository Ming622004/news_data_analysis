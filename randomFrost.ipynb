{
 "cells": [
  {
   "cell_type": "code",
   "execution_count": 1,
   "metadata": {},
   "outputs": [],
   "source": [
    "import pandas as pd\n",
    "import math\n",
    "import matplotlib.pyplot as plt\n",
    "import seaborn as sns\n",
    "from sklearn.ensemble import RandomForestClassifier\n",
    "from sklearn.ensemble import RandomForestRegressor\n",
    "from sklearn.model_selection import cross_val_score\n",
    "from sklearn.model_selection import train_test_split\n",
    "from sklearn.metrics import accuracy_score\n",
    "from sklearn.metrics import r2_score\n",
    "from sklearn.linear_model import LinearRegression\n",
    "\n",
    "df_news = pd.read_pickle(\"df_news_3keyword_com.pkl\")\n",
    "\n",
    "def change48VToClass(num):\n",
    "    if num <= 1000:\n",
    "        return \"一千以下\"\n",
    "    elif num <= 10000:\n",
    "        return \"一萬以下\"\n",
    "    elif num <= 100000:\n",
    "        return \"十萬以下\"\n",
    "    elif num <= 1000000:\n",
    "        return \"百萬以下\"\n",
    "    else:\n",
    "        return \"超過百萬\"\n",
    "\n",
    "\n",
    "def change48VToClass2(num):\n",
    "    if num <= 1000:\n",
    "        return \"1000\"\n",
    "    elif num <= 5000:\n",
    "        return \"5000\"\n",
    "    elif num <= 10000:\n",
    "        return \"10000\"\n",
    "    elif num <= 50000:\n",
    "        return \"50000\"\n",
    "    elif num <= 100000:\n",
    "        return \"100k\"\n",
    "    elif num <= 500000:\n",
    "        return \"500k\"\n",
    "    elif num <= 1000000:\n",
    "        return \"1m\"\n",
    "    else:\n",
    "        return \">1m\"\n",
    "    \n",
    "\n",
    "def change48VToClass3(num):\n",
    "    if num <= 1647:\n",
    "        return \"VL\"\n",
    "    elif num <= 3117:\n",
    "        return \"L\"\n",
    "    elif num <= 5666:\n",
    "        return \"M\"\n",
    "    elif num <= 14177:\n",
    "        return \"H\"\n",
    "    else:\n",
    "        return \"VH\""
   ]
  },
  {
   "cell_type": "code",
   "execution_count": null,
   "metadata": {},
   "outputs": [],
   "source": [
    "a = list(df_news[\"48hr_views\"])\n",
    "a.sort()\n",
    "print(a[int(len(a)*0.2)])\n",
    "print(a[int(len(a)*0.4)])\n",
    "print(a[int(len(a)*0.6)])\n",
    "print(a[int(len(a)*0.8)])"
   ]
  },
  {
   "cell_type": "code",
   "execution_count": 2,
   "metadata": {},
   "outputs": [
    {
     "name": "stdout",
     "output_type": "stream",
     "text": [
      "{'>1m', '100k', '1m', '5000', '500k', '50000', '1000', '10000'}\n",
      "5000     1756\n",
      "50000     751\n",
      "10000     674\n",
      "1000      341\n",
      "100k      134\n",
      "500k       99\n",
      "1m         12\n",
      ">1m         6\n",
      "Name: class, dtype: int64\n",
      "5000     1388\n",
      "50000     599\n",
      "10000     555\n",
      "1000      272\n",
      "100k      111\n",
      "500k       78\n",
      "1m         10\n",
      ">1m         5\n",
      "Name: class, dtype: int64\n",
      "5000     368\n",
      "50000    152\n",
      "10000    119\n",
      "1000      69\n",
      "100k      23\n",
      "500k      21\n",
      "1m         2\n",
      ">1m        1\n",
      "Name: class, dtype: int64\n"
     ]
    }
   ],
   "source": [
    "df_news_cls = df_news\n",
    "df_news_cls[\"class\"] = df_news[\"48hr_views\"].apply(change48VToClass2)\n",
    "\n",
    "a = set()\n",
    "for tmp in list(df_news_cls[\"class\"]):\n",
    "    a.add(tmp)\n",
    "print(a)\n",
    "\n",
    "# print(df_news_cls.groupby('class').count())\n",
    "print(df_news_cls['class'].value_counts())\n",
    "\n",
    "x_total = df_news_cls.drop([\"class\", \"tag\", \"48hr_views\"], axis=1)\n",
    "y_total = df_news_cls[\"class\"]\n",
    "x_train, x_test, y_train, y_test = train_test_split(x_total, y_total, test_size=0.2)\n",
    "\n",
    "print(y_train.value_counts())\n",
    "print(y_test.value_counts())"
   ]
  },
  {
   "cell_type": "code",
   "execution_count": 3,
   "metadata": {},
   "outputs": [
    {
     "name": "stdout",
     "output_type": "stream",
     "text": [
      "正確率: 0.27019867549668874\n"
     ]
    }
   ],
   "source": [
    "x_train, x_test, y_train, y_test = train_test_split(x_total, y_total, test_size=0.2)\n",
    "clf = RandomForestClassifier(n_estimators=35, max_depth=5)\n",
    "\n",
    "# np.average(cross_val_score(clf, x_train, y_train, cv=10))\n",
    "clf = clf.fit(x_train, y_train)\n",
    "\n",
    "\n",
    "from sklearn.metrics import accuracy_score\n",
    "y_pred = clf.predict(x_test)\n",
    "print(\"正確率:\",accuracy_score(y_test,y_pred))\n",
    "# print(y_pred.value_counts())"
   ]
  },
  {
   "cell_type": "code",
   "execution_count": null,
   "metadata": {},
   "outputs": [],
   "source": [
    "print(y_pred)"
   ]
  },
  {
   "cell_type": "code",
   "execution_count": 4,
   "metadata": {},
   "outputs": [
    {
     "name": "stdout",
     "output_type": "stream",
     "text": [
      "Confusion matrix, without normalization\n",
      "[[27  7 34 39 41]\n",
      " [36 10 35 39 58]\n",
      " [23 10 32 27 32]\n",
      " [32  4 25 55 31]\n",
      " [12 14 30 22 80]]\n"
     ]
    },
    {
     "data": {
      "text/plain": [
       "<matplotlib.axes._subplots.AxesSubplot at 0x213a7f0a128>"
      ]
     },
     "execution_count": 4,
     "metadata": {},
     "output_type": "execute_result"
    },
    {
     "data": {
      "image/png": "[encoded data removed]",
      "text/plain": [
       "<Figure size 432x288 with 2 Axes>"
      ]
     },
     "metadata": {
      "needs_background": "light"
     },
     "output_type": "display_data"
    }
   ],
   "source": [
    "import numpy as np\n",
    "import matplotlib.pyplot as plt\n",
    "from sklearn import svm, datasets\n",
    "from sklearn.model_selection import train_test_split\n",
    "from sklearn.metrics import confusion_matrix\n",
    "from sklearn.utils.multiclass import unique_labels\n",
    "\n",
    "# class_names = ['1000', '5000', '10000', '50000','100k','500k','1m','>1m']\n",
    "# class_names = [' ', ' ', ' ', ' ',' ',' ',' ',' ']\n",
    "class_names = [\"VL\", \"L\", \"M\", \"H\", \"VH\"]\n",
    "\n",
    "def plot_confusion_matrix(y_true, y_pred, classes,\n",
    "                          normalize=False,\n",
    "                          title=None,\n",
    "                          cmap=plt.cm.Blues):\n",
    "\n",
    "    \"\"\"\n",
    "    This function prints and plots the confusion matrix.\n",
    "    Normalization can be applied by setting `normalize=True`.\n",
    "    \"\"\"\n",
    "\n",
    "    if not title:\n",
    "        if normalize:\n",
    "            title = 'Normalized confusion matrix'\n",
    "        else:\n",
    "            title = 'Confusion matrix, without normalization'\n",
    "\n",
    "    # Compute confusion matrix\n",
    "    cm = confusion_matrix(y_true, y_pred)\n",
    "\n",
    "    # Only use the labels that appear in the data\n",
    "    # classes = classes[unique_labels(y_true, y_pred)]\n",
    "\n",
    "    if normalize:\n",
    "        cm = cm.astype('float') / cm.sum(axis=1)[:, np.newaxis]\n",
    "        print(\"Normalized confusion matrix\")\n",
    "    else:\n",
    "        print('Confusion matrix, without normalization')\n",
    "\n",
    "    print(cm)\n",
    "\n",
    "\n",
    "    \n",
    "    fig, ax = plt.subplots()\n",
    "    im = ax.imshow(cm, interpolation='nearest', cmap=cmap)\n",
    "    ax.figure.colorbar(im, ax=ax)\n",
    "    # We want to show all ticks...\n",
    "    ax.set(xticks=np.arange(cm.shape[1]),\n",
    "           yticks=np.arange(cm.shape[0]),\n",
    "           # ... and label them with the respective list entries\n",
    "           xticklabels=classes, yticklabels=classes,\n",
    "           title=title,\n",
    "           ylabel='True label',\n",
    "           xlabel='Predicted label')\n",
    "\n",
    "    # plt.figure(figsize=(28,20))\n",
    "\n",
    "    # Rotate the tick labels and set their alignment.\n",
    "\n",
    "    plt.setp(ax.get_xticklabels(), rotation=45, ha=\"right\",\n",
    "             rotation_mode=\"anchor\")\n",
    "\n",
    "    # Loop over data dimensions and create text annotations.\n",
    "\n",
    "    fmt = '.2f' if normalize else 'd'\n",
    "    thresh = cm.max() / 2.\n",
    "    for i in range(cm.shape[0]):\n",
    "        for j in range(cm.shape[1]):\n",
    "            ax.text(j, i, format(cm[i, j], fmt),\n",
    "                    ha=\"center\", va=\"center\",\n",
    "                    color=\"white\" if cm[i, j] > thresh else \"black\")\n",
    "    fig.tight_layout()\n",
    "    return ax\n",
    "\n",
    "# plot_confusion_matrix(y_test, y_pred, classes=class_names, normalize=True, title='Normalized confusion matrix')\n",
    "plot_confusion_matrix(y_test, y_pred, classes=class_names,title='  ')"
   ]
  },
  {
   "cell_type": "code",
   "execution_count": null,
   "metadata": {},
   "outputs": [],
   "source": [
    "unique_labels(y_test, y_pred)"
   ]
  },
  {
   "cell_type": "code",
   "execution_count": null,
   "metadata": {},
   "outputs": [],
   "source": [
    "from sklearn.tree import export_graphviz\n",
    "import graphviz\n",
    "dot_data = export_graphviz(clf, out_file=None,feature_names=x_train.columns,filled=True, rounded=True,special_characters=True)\n",
    "graph = graphviz.Source(dot_data)\n",
    "# 你可以把註解解除, 輸出一個 pdf\n",
    "# graph.render(\"boston\")\n",
    "graph"
   ]
  },
  {
   "cell_type": "code",
   "execution_count": null,
   "metadata": {},
   "outputs": [],
   "source": [
    "lm = LinearRegression()\n",
    "df_news\n"
   ]
  },
  {
   "cell_type": "code",
   "execution_count": null,
   "metadata": {},
   "outputs": [],
   "source": [
    "df_news_cls[df_news_cls[\"48hr_views\"]>500000].count()"
   ]
  },
  {
   "cell_type": "code",
   "execution_count": null,
   "metadata": {},
   "outputs": [],
   "source": [
    "# 這邊是回歸的\n",
    "df_news_reg = df_news\n",
    "# df_news_reg[\"48hr_views\"] = df_news[\"48hr_views\"].apply(lambda x: math.log10(x+1))\n",
    "\n",
    "x_total = df_news_reg.drop([\"tag\", \"48hr_views\"], axis=1)\n",
    "y_total = df_news_reg[\"48hr_views\"]\n",
    "\n",
    "x_train, x_test, y_train, y_test = train_test_split(x_total, y_total, test_size=0.2)\n",
    "\n",
    "from sklearn.ensemble import RandomForestRegressor\n",
    "clf = RandomForestRegressor(n_estimators=40, max_depth=6)\n",
    "\n",
    "# np.average(cross_val_score(clf, x_train, y_train, cv=10))\n",
    "clf = clf.fit(x_train, y_train)\n",
    "\n",
    "\n",
    "from sklearn.metrics import r2_score\n",
    "pred = clf.predict(x_test)\n",
    "print(\"隨機森林r2_score:\",r2_score(y_test,pred))\n",
    "\n",
    "lm.fit(x_train, y_train)\n",
    "pred = lm.predict(x_test)\n",
    "print(\"迴歸r2_score:\",r2_score(y_test,pred))"
   ]
  },
  {
   "cell_type": "code",
   "execution_count": null,
   "metadata": {},
   "outputs": [],
   "source": [
    "df_news_reg"
   ]
  },
  {
   "cell_type": "code",
   "execution_count": null,
   "metadata": {},
   "outputs": [],
   "source": [
    "min(df_news_reg[\"48hr_views\"])"
   ]
  },
  {
   "cell_type": "code",
   "execution_count": null,
   "metadata": {},
   "outputs": [],
   "source": [
    "plt.figure(figsize=(28,20))\n",
    "plt.title(\"heatmap\",y = 1.05,size = 30)\n",
    "sns.heatmap(df_news_reg.drop([\"tag\"],axis=1).astype(float).corr(),cmap = \"BrBG\",linewidths=0.1,square=True, linecolor=\"white\",annot=True)"
   ]
  },
  {
   "cell_type": "code",
   "execution_count": null,
   "metadata": {},
   "outputs": [],
   "source": []
  }
 ],
 "metadata": {
  "kernelspec": {
   "display_name": "Python 3",
   "language": "python",
   "name": "python3"
  },
  "language_info": {
   "codemirror_mode": {
    "name": "ipython",
    "version": 3
   },
   "file_extension": ".py",
   "mimetype": "text/x-python",
   "name": "python",
   "nbconvert_exporter": "python",
   "pygments_lexer": "ipython3",
   "version": "3.6.0"
  }
 },
 "nbformat": 4,
 "nbformat_minor": 2
}
